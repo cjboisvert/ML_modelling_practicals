{
 "cells": [
  {
   "cell_type": "markdown",
   "id": "64157b4d",
   "metadata": {},
   "source": [
    "### LSE Data Analytics Online Career Accelerator \n",
    "\n",
    "# Course 301: Advanced Analytics for Organisational Impact"
   ]
  },
  {
   "cell_type": "markdown",
   "id": "a4ffe7c9",
   "metadata": {},
   "source": [
    "## My model: Linear regression to predict house prices"
   ]
  },
  {
   "cell_type": "markdown",
   "id": "9bbb8839",
   "metadata": {},
   "source": [
    "As part of my exams I built a model to predict the house prices for a real estate company so that it can help its customers to plan the purchase of a house based on the predicted price range. I used two variables to make the prediction: the average number of rooms per property and the weighted distance of each property from five employment hubs in Cape Town, South Africa. \n",
    "The steps I took were:\n",
    "\n",
    "- install the Python packages and examine the data\n",
    "- set the variables, fit the model, and call the predictions for X\n",
    "- check the value of R-squared, the intercept, and the coefficients\n",
    "- make some predictions\n",
    "- train and test subsets with multiple linear regression (MLR)\n",
    "- run a regression test."
   ]
  },
  {
   "cell_type": "markdown",
   "id": "874d7146",
   "metadata": {},
   "source": [
    "## 1. Import the libraries"
   ]
  },
  {
   "cell_type": "code",
   "execution_count": 1,
   "id": "19b7bc2c",
   "metadata": {},
   "outputs": [],
   "source": [
    "import statsmodels.api as sm\n",
    "from sklearn import datasets \n",
    "import numpy as np\n",
    "from sklearn import linear_model\n",
    "import pandas as pd\n",
    "from statsmodels.stats.outliers_influence import variance_inflation_factor\n",
    "import sklearn\n",
    "from sklearn.model_selection import train_test_split\n",
    "from sklearn import metrics\n",
    "from sklearn.linear_model import LinearRegression\n",
    "import matplotlib.pyplot as plt\n",
    "\n",
    "# Note: Indicates situations that aren’t necessarily exceptions.\n",
    "import warnings  \n",
    "warnings.filterwarnings('ignore')  "
   ]
  },
  {
   "cell_type": "markdown",
   "id": "8981707f",
   "metadata": {},
   "source": [
    "## 2. Import the data set"
   ]
  },
  {
   "cell_type": "code",
   "execution_count": 3,
   "id": "03c037c1",
   "metadata": {},
   "outputs": [
    {
     "data": {
      "text/html": [
       "<div>\n",
       "<style scoped>\n",
       "    .dataframe tbody tr th:only-of-type {\n",
       "        vertical-align: middle;\n",
       "    }\n",
       "\n",
       "    .dataframe tbody tr th {\n",
       "        vertical-align: top;\n",
       "    }\n",
       "\n",
       "    .dataframe thead th {\n",
       "        text-align: right;\n",
       "    }\n",
       "</style>\n",
       "<table border=\"1\" class=\"dataframe\">\n",
       "  <thead>\n",
       "    <tr style=\"text-align: right;\">\n",
       "      <th></th>\n",
       "      <th>Rooms</th>\n",
       "      <th>Distance</th>\n",
       "      <th>Value</th>\n",
       "    </tr>\n",
       "  </thead>\n",
       "  <tbody>\n",
       "    <tr>\n",
       "      <th>0</th>\n",
       "      <td>6.575</td>\n",
       "      <td>4.0900</td>\n",
       "      <td>24.0</td>\n",
       "    </tr>\n",
       "    <tr>\n",
       "      <th>1</th>\n",
       "      <td>6.421</td>\n",
       "      <td>4.9671</td>\n",
       "      <td>21.6</td>\n",
       "    </tr>\n",
       "    <tr>\n",
       "      <th>2</th>\n",
       "      <td>7.185</td>\n",
       "      <td>4.9671</td>\n",
       "      <td>34.7</td>\n",
       "    </tr>\n",
       "    <tr>\n",
       "      <th>3</th>\n",
       "      <td>6.998</td>\n",
       "      <td>6.0622</td>\n",
       "      <td>33.4</td>\n",
       "    </tr>\n",
       "    <tr>\n",
       "      <th>4</th>\n",
       "      <td>7.147</td>\n",
       "      <td>6.0622</td>\n",
       "      <td>36.2</td>\n",
       "    </tr>\n",
       "  </tbody>\n",
       "</table>\n",
       "</div>"
      ],
      "text/plain": [
       "   Rooms  Distance  Value\n",
       "0  6.575    4.0900   24.0\n",
       "1  6.421    4.9671   21.6\n",
       "2  7.185    4.9671   34.7\n",
       "3  6.998    6.0622   33.4\n",
       "4  7.147    6.0622   36.2"
      ]
     },
     "execution_count": 3,
     "metadata": {},
     "output_type": "execute_result"
    }
   ],
   "source": [
    "# Load the CSV file (house_price.csv).\n",
    "hp = pd.read_csv('house_prices.csv')  \n",
    "\n",
    "# Print the DataFrame.\n",
    "hp.head() "
   ]
  },
  {
   "cell_type": "code",
   "execution_count": 4,
   "id": "6c8f8566",
   "metadata": {},
   "outputs": [
    {
     "name": "stdout",
     "output_type": "stream",
     "text": [
      "<class 'pandas.core.frame.DataFrame'>\n",
      "RangeIndex: 506 entries, 0 to 505\n",
      "Data columns (total 3 columns):\n",
      " #   Column    Non-Null Count  Dtype  \n",
      "---  ------    --------------  -----  \n",
      " 0   Rooms     506 non-null    float64\n",
      " 1   Distance  506 non-null    float64\n",
      " 2   Value     506 non-null    float64\n",
      "dtypes: float64(3)\n",
      "memory usage: 12.0 KB\n"
     ]
    }
   ],
   "source": [
    "# View the DataFrame.\n",
    "hp.info()"
   ]
  },
  {
   "cell_type": "markdown",
   "id": "34df7bb0",
   "metadata": {},
   "source": [
    "## 3. Set the variables, fitting the model, and calling the predictions for X"
   ]
  },
  {
   "cell_type": "code",
   "execution_count": 5,
   "id": "4f5a5b01",
   "metadata": {},
   "outputs": [],
   "source": [
    "# Define the dependent variable.\n",
    "y = hp['Value']  \n",
    "\n",
    "# Define the independent variable.\n",
    "X = hp[['Rooms', 'Distance']] "
   ]
  },
  {
   "cell_type": "code",
   "execution_count": 6,
   "id": "d03511d3",
   "metadata": {},
   "outputs": [
    {
     "data": {
      "text/plain": [
       "LinearRegression()"
      ]
     },
     "execution_count": 6,
     "metadata": {},
     "output_type": "execute_result"
    }
   ],
   "source": [
    "# Fit the regression model.\n",
    "mlr = linear_model.LinearRegression()\n",
    "mlr.fit(X, y) "
   ]
  },
  {
   "cell_type": "code",
   "execution_count": 8,
   "id": "ccee5ed1",
   "metadata": {
    "scrolled": true
   },
   "outputs": [
    {
     "data": {
      "text/plain": [
       "array([25.23262311, 24.30597474, 31.03025338, 29.9197274 , 31.23113776,\n",
       "       24.92052548, 20.99628003, 22.59515685, 17.89792552, 21.43016488,\n",
       "       24.59312806, 21.29554669, 19.86012857, 20.02480328, 21.19854962,\n",
       "       18.91052046, 19.79946305, 20.16587486, 15.24036623, 17.62554884,\n",
       "       16.24441157, 19.82577837, 21.36632302, 18.52848931, 19.65425152,\n",
       "       16.82067934, 18.81534563, 20.76312523, 24.70679323, 26.17680132,\n",
       "       17.71571146, 20.84706509, 19.68285587, 17.39216584, 20.85532906,\n",
       "       19.22540394, 18.42427779, 18.77543693, 19.75391977, 26.04958067,\n",
       "       29.82538634, 27.7461615 , 22.45651299, 22.82617229, 21.57637181,\n",
       "       17.86689491, 18.78224174, 21.21771802, 15.7523132 , 17.64542212,\n",
       "       21.17812468, 22.51593928, 26.00129836, 21.48617409, 20.7648873 ,\n",
       "       33.41670435, 26.03470634, 29.42393915, 23.26887906, 20.91861579,\n",
       "       19.42498135, 21.20638654, 25.71803969, 28.7805479 , 32.39778062,\n",
       "       23.95685233, 19.52974218, 20.27518634, 17.77558538, 20.33679623,\n",
       "       24.4272984 , 20.4138546 , 21.32920143, 22.91345556, 22.65354578,\n",
       "       22.890714  , 22.60892674, 21.40425339, 22.66548379, 19.26453233,\n",
       "       27.21117149, 26.26061901, 23.47057146, 22.28238086, 23.93257269,\n",
       "       25.8866734 , 20.46867221, 21.0694004 , 28.70813555, 29.33831749,\n",
       "       23.35427586, 23.24856115, 23.85471467, 21.82158854, 22.1311598 ,\n",
       "       25.38192659, 21.31567433, 38.09116527, 35.89961373, 32.34384335,\n",
       "       25.92897066, 26.44252374, 23.06406971, 20.70529134, 20.82575888,\n",
       "       17.89096542, 17.80983337, 20.32773223, 23.53360961, 21.43211252,\n",
       "       21.24661957, 25.77432221, 18.55715411, 20.22773676, 21.51106612,\n",
       "       18.74280198, 21.05607467, 19.70031291, 18.25696233, 17.1536719 ,\n",
       "       18.1319106 , 19.28182222, 18.84934375, 17.85553459, 18.08822678,\n",
       "       19.02342728, 15.62527907, 16.3445952 , 22.85186727, 15.94537952,\n",
       "       23.23909304, 22.15185608, 22.58429208, 17.81317649, 17.18051639,\n",
       "       22.15270637, 18.6234551 , 23.07253379, 17.72951157, 20.31717554,\n",
       "       20.49184141, 10.24188438, 13.56404016, 14.18022607,  9.17521327,\n",
       "       20.01032929, 15.63968329,  9.43381443, 11.75581429, 15.37128804,\n",
       "       20.03714997, 13.70483068, 10.26376982, 16.4047089 , 20.16299455,\n",
       "       20.36352051, 12.61382958, 27.38986751, 19.61236751, 23.52439846,\n",
       "       21.25191896, 32.24119459, 35.03015812, 40.13266443, 18.07140582,\n",
       "       20.17760014, 36.15047943, 18.27574481, 22.0066531 , 22.81660817,\n",
       "       18.25814198, 18.28396388, 15.67451622, 23.127448  , 18.25224159,\n",
       "       24.50921193, 20.0862567 , 22.56662054, 27.16677511, 28.1807569 ,\n",
       "       35.04684651, 20.70980371, 29.65823582, 24.51936744, 16.14769225,\n",
       "       21.12231335, 35.85173009, 26.90717641, 25.29843038, 30.83451843,\n",
       "       29.71020419, 27.84430488, 31.70812468, 28.25399262, 26.5289159 ,\n",
       "       37.43628005, 33.07283177, 31.48857764, 32.95841342, 30.49515072,\n",
       "       31.90337661, 22.66332984, 35.40777416, 36.98336372, 38.57641927,\n",
       "       19.14176992, 23.17056754, 18.39140092, 20.80803787, 14.29298272,\n",
       "       19.71567898, 14.71840923, 18.25931648, 23.40165325, 14.75093477,\n",
       "       21.70298077, 18.7080082 , 25.49532692, 19.15358169, 23.09949169,\n",
       "       27.9415013 , 21.10586268, 27.50842309, 25.2112546 , 39.5313432 ,\n",
       "       43.57119123, 37.69929117, 29.98045299, 34.66151384, 24.68071282,\n",
       "       19.80000137, 32.3948217 , 40.61771646, 39.73441915, 26.34747175,\n",
       "       20.71456818, 25.75385539, 32.15248179, 25.43182344, 26.53199992,\n",
       "       29.16468042, 22.10594813, 24.76262011, 25.07066952, 18.47898741,\n",
       "       18.58460435, 23.06089266, 24.09945926, 25.80940519, 28.31780756,\n",
       "       26.07457433, 25.64330515, 30.94939918, 42.40883738, 23.63030344,\n",
       "       21.58837589, 34.06706681, 42.8518546 , 30.8308752 , 26.56613731,\n",
       "       29.79301622, 32.59660487, 40.39693624, 30.86811263, 29.73045002,\n",
       "       15.27089721, 28.13971743, 39.57305938, 32.51446918, 19.38337199,\n",
       "       19.07012766, 22.4498698 , 24.8226445 , 35.19016533, 26.83721976,\n",
       "       27.77488986, 31.6640253 , 27.81955963, 24.43868089, 27.3237884 ,\n",
       "       36.48598755, 29.25605137, 35.19857294, 37.97440938, 31.32051978,\n",
       "       25.73162327, 24.63998764, 23.58891838, 24.52186803, 26.72222099,\n",
       "       28.25172769, 30.77773288, 26.21860156, 21.98018694, 20.94162034,\n",
       "       27.05351083, 25.91812871, 19.41364706, 25.03551645, 31.16129908,\n",
       "       29.66505907, 26.04986328, 25.21372916, 29.50001672, 31.01711463,\n",
       "       25.24151005, 32.18546498, 27.20067768, 25.38307233, 19.44263385,\n",
       "       10.36497585, 20.53689983, 19.76025002, 22.10861135, 24.92380039,\n",
       "       17.50451178, 19.37020914, 18.22460366, 23.26141757, 21.12330329,\n",
       "       24.14139013, 23.70131954, 20.84118151, 17.91031137, 24.13290953,\n",
       "       24.61338408, 23.56601608, 21.55049277, 19.55978401, 23.65244051,\n",
       "       22.31112486, 18.8311022 , 21.69156104, 24.11084632, 24.05803785,\n",
       "       21.42397818, 19.57665143, 19.99315709, 21.04414102, 20.39283655,\n",
       "       20.24321255, 32.53543999, 25.98874808, 27.10033213, 29.02545606,\n",
       "       22.21307719, 21.19211342, 26.88641821, 27.8402695 , 30.73495172,\n",
       "       26.78311781, 28.50415273, 22.38717151, 30.50787039, 20.38114896,\n",
       "       22.78393439, 21.07575447, 22.87364182, 20.62118801, 20.38474878,\n",
       "       22.90640109, 21.50372698, 13.58546183, 17.36965247, 43.57145549,\n",
       "       -2.50561219,  9.90196602,  0.10225832,  9.75835729, 24.84700588,\n",
       "       27.70244669, 20.64503858, 17.62444762,  9.11768221,  2.34001276,\n",
       "       30.37214586, 24.54198947, 25.8245981 , 22.19455025, 20.81272859,\n",
       "       27.3846414 , 23.71184894, 14.86114194, 14.69719681,  4.51221416,\n",
       "       12.50614694,  7.02535622, 10.11327659,  9.0918643 , 13.64833874,\n",
       "       16.58818231, 19.68101866, 10.5531217 , 20.74671878, 18.04903824,\n",
       "       23.16149169, 22.55669381, 16.7441488 , 14.08623731, 17.60328019,\n",
       "       18.834685  , 21.96080153, 22.52941393, 13.27511298, 14.83033379,\n",
       "       16.07917795,  2.36010443, 15.3505355 , 15.51260803, 26.3876312 ,\n",
       "       16.7244207 , 24.70166451,  6.85650551, 11.51220367,  5.94813852,\n",
       "       22.88912394, 25.94458476, 12.85201613, 18.67515846, 26.30177842,\n",
       "       22.6985216 , 19.14162473, 16.0281651 , 20.06732019, 15.35254561,\n",
       "       18.19057913, 17.7143145 , 20.86098192, 20.81730851, 22.47910898,\n",
       "       22.2387715 , 26.52481036, 22.98868314, 23.14191179, 21.08943367,\n",
       "       24.74716532, 23.20883973, 20.44598926, 18.49032667, 15.77782974,\n",
       "       17.48285298, 22.75531511, 21.07997353, 23.40824348, 17.81407596,\n",
       "       23.18405083, 22.1865964 , 21.45606425, 20.90626183, 22.91074358,\n",
       "       25.90056672, 25.08868162, 21.94413121, 31.63178628, 25.80006344,\n",
       "       23.98389927, 19.22270945, 18.96773829, 22.18216012, 20.21378105,\n",
       "       25.61199456, 22.73667472, 22.29917578, 24.05710312, 21.46056962,\n",
       "       17.55033458, 19.1536816 , 19.44064697, 18.9428834 , 17.02677721,\n",
       "       21.12512972, 21.70303237, 23.43458755, 28.03600885, 14.31701599,\n",
       "       20.67664938, 23.55924665, 13.07356228, 20.86172773, 21.14178537,\n",
       "       21.97627762, 26.40217634, 29.17798557, 18.08113274, 18.85751062,\n",
       "       22.86979799, 20.90918977, 18.87728391, 14.25699424, 13.87291819,\n",
       "       11.08051561, 18.93601475, 19.05421832, 16.75789769, 18.68540688,\n",
       "       16.63604641, 14.1716511 , 17.77342212, 19.51733263, 15.5521999 ,\n",
       "       19.63130033, 24.60331799, 20.34683124, 27.82217794, 26.32855206,\n",
       "       19.66102874])"
      ]
     },
     "execution_count": 8,
     "metadata": {},
     "output_type": "execute_result"
    }
   ],
   "source": [
    "# Call the predictions for X (array).\n",
    "mlr.predict(X) "
   ]
  },
  {
   "cell_type": "markdown",
   "id": "ae0348e7",
   "metadata": {},
   "source": [
    "## 4. Check the value of R-squared, the intercept, and the coefficients"
   ]
  },
  {
   "cell_type": "code",
   "execution_count": 9,
   "id": "31aa9084",
   "metadata": {},
   "outputs": [
    {
     "name": "stdout",
     "output_type": "stream",
     "text": [
      "R-squared:  0.4955246476058477\n",
      "Intercept:  -34.636050175473315\n",
      "Coefficients:\n"
     ]
    },
    {
     "data": {
      "text/plain": [
       "[('Rooms', 8.801411828632594), ('Distance', 0.48884853656712307)]"
      ]
     },
     "execution_count": 9,
     "metadata": {},
     "output_type": "execute_result"
    }
   ],
   "source": [
    "# Print the R-squared value.\n",
    "print(\"R-squared: \", mlr.score(X,y))  \n",
    "\n",
    "# Print the intercept.\n",
    "print(\"Intercept: \", mlr.intercept_) \n",
    "\n",
    "# Print the coefficients.\n",
    "print(\"Coefficients:\")  \n",
    "\n",
    "# Map a similar index of multiple containers (to be used as a single entity).\n",
    "list(zip(X, mlr.coef_))  "
   ]
  },
  {
   "cell_type": "markdown",
   "id": "21c948c3",
   "metadata": {},
   "source": [
    "### R2 analysis: 49% of the fluctuation in house prices can be determined by this dataset, e.g. the distance from a metropolitan hub and the number of rooms. The Intercept means the predicted value of Y when each of the independent varables were 0. It is not always analytically relevant. \n",
    "### Controlling for distance, a 1 unit increase of rooms would improve the value by 8 units. Controlling for rooms, decreasing the distance would increase the value of the property by .48 units. This determines the sensitivity the dependent variable has on the independent variable. \n",
    "Adjusted R-squared is useful to compare this model verus other complicated models, which don't necessarily explain more of the behaviour."
   ]
  },
  {
   "cell_type": "markdown",
   "id": "357bb104",
   "metadata": {},
   "source": [
    "## 5. Make predictions"
   ]
  },
  {
   "cell_type": "code",
   "execution_count": 10,
   "id": "57b19bb5",
   "metadata": {},
   "outputs": [
    {
     "name": "stdout",
     "output_type": "stream",
     "text": [
      "Predicted Value: \n",
      " [23.40256559]\n"
     ]
    }
   ],
   "source": [
    "# Create a variable 'New_Rooms' and define it as 5.7.\n",
    "New_Rooms = 5.75\n",
    "\n",
    "# Create 'New_Distance' and define it as 15.2.\n",
    "New_Distance = 15.2  \n",
    "\n",
    "# Print the predicted value. \n",
    "print (\"Predicted Value: \\n\", mlr.predict([[New_Rooms ,New_Distance]]))  "
   ]
  },
  {
   "cell_type": "code",
   "execution_count": 11,
   "id": "bf4b7c12",
   "metadata": {},
   "outputs": [
    {
     "name": "stdout",
     "output_type": "stream",
     "text": [
      "Predicted Value: \n",
      " [32.20397742]\n"
     ]
    }
   ],
   "source": [
    "# Create a variable 'New_Rooms' and define it as 5.7.\n",
    "New_Rooms = 6.75\n",
    "\n",
    "# Create 'New_Distance' and define it as 15.2.\n",
    "New_Distance = 15.2  \n",
    "\n",
    "# Print the predicted value. \n",
    "print (\"Predicted Value: \\n\", mlr.predict([[New_Rooms ,New_Distance]]))  "
   ]
  },
  {
   "cell_type": "markdown",
   "id": "31c57d88",
   "metadata": {},
   "source": [
    "##  6. Train and test subsets with (MLR) multiple linear regression"
   ]
  },
  {
   "cell_type": "code",
   "execution_count": 12,
   "id": "c513b32b",
   "metadata": {},
   "outputs": [],
   "source": [
    "# Split the data in 'train' (80%) and 'test' (20%) sets.\n",
    "X_train, X_test, Y_train, Y_test = sklearn.model_selection.train_test_split(X, y,\n",
    "                                                                            test_size = 0.20,\n",
    "                                                                            random_state = 5)"
   ]
  },
  {
   "cell_type": "code",
   "execution_count": 13,
   "id": "80ef784c",
   "metadata": {},
   "outputs": [
    {
     "name": "stdout",
     "output_type": "stream",
     "text": [
      "                            OLS Regression Results                            \n",
      "==============================================================================\n",
      "Dep. Variable:                  Value   R-squared:                       0.449\n",
      "Model:                            OLS   Adj. R-squared:                  0.446\n",
      "Method:                 Least Squares   F-statistic:                     163.3\n",
      "Date:                Sat, 05 Nov 2022   Prob (F-statistic):           1.33e-52\n",
      "Time:                        16:06:03   Log-Likelihood:                -1352.5\n",
      "No. Observations:                 404   AIC:                             2711.\n",
      "Df Residuals:                     401   BIC:                             2723.\n",
      "Df Model:                           2                                         \n",
      "Covariance Type:            nonrobust                                         \n",
      "==============================================================================\n",
      "                 coef    std err          t      P>|t|      [0.025      0.975]\n",
      "------------------------------------------------------------------------------\n",
      "const        -32.8597      3.141    -10.462      0.000     -39.035     -26.685\n",
      "Rooms          8.4852      0.507     16.733      0.000       7.488       9.482\n",
      "Distance       0.5603      0.171      3.279      0.001       0.224       0.896\n",
      "==============================================================================\n",
      "Omnibus:                      119.542   Durbin-Watson:                   2.115\n",
      "Prob(Omnibus):                  0.000   Jarque-Bera (JB):              620.242\n",
      "Skew:                           1.162   Prob(JB):                    2.07e-135\n",
      "Kurtosis:                       8.607   Cond. No.                         69.9\n",
      "==============================================================================\n",
      "\n",
      "Notes:\n",
      "[1] Standard Errors assume that the covariance matrix of the errors is correctly specified.\n"
     ]
    }
   ],
   "source": [
    "# Training the model using the 'statsmodel' OLS library.\n",
    "# Fit the model with the added constant.\n",
    "model = sm.OLS(Y_train, sm.add_constant(X_train)).fit()\n",
    "\n",
    "# Set the predicted response vector.\n",
    "Y_pred = model.predict(sm.add_constant(X_test)) \n",
    "\n",
    "# Call a summary of the model.\n",
    "print_model = model.summary()\n",
    "\n",
    "# Print the summary.\n",
    "print(print_model)  "
   ]
  },
  {
   "cell_type": "markdown",
   "id": "52cc17cb",
   "metadata": {},
   "source": [
    "## 7. Run a regression test"
   ]
  },
  {
   "cell_type": "markdown",
   "id": "5f9476ff",
   "metadata": {},
   "source": [
    "> First train the model and then test the model."
   ]
  },
  {
   "cell_type": "code",
   "execution_count": 14,
   "id": "562399d1",
   "metadata": {},
   "outputs": [
    {
     "data": {
      "text/plain": [
       "LinearRegression()"
      ]
     },
     "execution_count": 14,
     "metadata": {},
     "output_type": "execute_result"
    }
   ],
   "source": [
    "# Specify the model.\n",
    "mlr = LinearRegression()  \n",
    "\n",
    "# Fit the model. We can only fit the model with the training data set.\n",
    "mlr.fit(X_train, Y_train)  "
   ]
  },
  {
   "cell_type": "code",
   "execution_count": 15,
   "id": "195e6437",
   "metadata": {
    "scrolled": true
   },
   "outputs": [
    {
     "name": "stdout",
     "output_type": "stream",
     "text": [
      "Prediction for test set: [17.63626948 37.66571679 18.69656171 20.35132516 22.39778381 10.05828849\n",
      " 22.93899112 10.74873225 27.16871507 19.94730086 23.01486764 31.53962547\n",
      " 24.92883571 19.94963594 16.36537912 21.49365062 21.77879406 19.05491856\n",
      " 20.47609686 31.83685414 24.30035564 19.27743482 21.85259968 26.27861126\n",
      " 21.48519624 19.25449933 19.76896032 37.12586674 34.48515006 23.10082167\n",
      " 17.55275278 20.26766924 23.52707578 21.25246102 14.55081093  7.43546483\n",
      " 25.96897982 27.95249473 19.83445037 20.31918341 15.5626069  19.85303113\n",
      " 32.95665327 17.62371179 25.22198181 19.90200838 23.43654839 25.36457553\n",
      " 17.77296547 27.34610874 23.0599489  20.77358438 26.28203607 33.52195834\n",
      " 14.43876093 26.32793967 29.91619053 29.72143049 25.70873954 30.61253761\n",
      " 16.24067703 29.20361136 22.69074152 18.82055141 19.08794386 24.57907765\n",
      " 28.51315612 -1.74008454 25.03097868 22.68018779 16.08063529 20.16361279\n",
      " 26.04840862 10.57025458 19.50502784 27.68868803 22.68918536 19.50019423\n",
      " 29.12005629 34.92971235 18.36886608 22.21211168 10.23409477 19.87157953\n",
      " 31.79017653 22.83946476 29.36495223 22.1365982  17.3148646  22.66007427\n",
      " 21.26869788 24.80628129 27.34323412 20.72027019 21.93482802 26.32968044\n",
      " 22.40751701 26.1446585  27.78474517 20.83731097 25.16647822 25.60089089\n",
      " 14.83753729 31.89838642 25.98935457 22.42744733 27.23896828 25.62719753\n",
      " 22.49437167 23.85583886 18.21080141 18.46055716 19.09326183 21.18723963\n",
      " 24.48241135 31.27027221 19.56753107 19.1633789   2.91209893 16.16028288\n",
      " 23.6602527  19.0433436  27.13520037 21.31587078 20.88835185 26.12625983\n",
      " 32.14784774 21.16803711 17.14470573 24.82394418 23.04850294 24.02998758\n",
      " 21.58320244 22.84536766 17.7875914  25.09550646 15.90462689 21.61649625\n",
      " 29.21264451 21.04447532 20.35221179 22.05244602 20.65693762 36.12484846\n",
      " 18.14884403 14.65624635 19.08934875 21.39283045 18.24714185 21.71883181\n",
      " 23.44392704 17.89866849 31.18048479 16.15789261 23.0089548  22.93530032\n",
      " 42.20972007 25.91216505 21.8957585  23.36831328 27.03858982 24.40667713\n",
      " 18.98292389 19.70951689 35.56568342 19.56205804 30.88936716 25.31299118\n",
      " 18.75917559 26.32255334 22.56416532 15.04770078 17.92493045 23.08515531\n",
      " 24.46104029 13.72627154 22.65348658 26.1345946  24.62628304 29.08992831\n",
      " 23.48115817 20.80921929 25.88347458 28.52882542 20.12620896 20.72887865\n",
      " 22.74993662 26.12715921 24.47189124 22.7240915  22.16481706 16.53070367\n",
      " 20.40760011 24.21003457 14.99980135 30.65923175 37.56561475 17.19826868\n",
      " 13.32274589 28.22398039 31.16199438 20.71633399 21.17786514 21.470973\n",
      " 22.80672562 22.89051026 29.93002718 33.06696082 18.36696424 20.82492585\n",
      " 22.58038424 19.56244953 21.53120153 31.67749594 21.20216601 17.86209512\n",
      " 20.66204114 26.98210994 42.00449972 22.16519875 21.80628414 22.76198515\n",
      " 28.32430864 23.12463537 20.26131994 25.77654127 18.37157767 18.5199723\n",
      " 24.31188059 19.06553532 14.32834594 21.12284884 19.87076083 35.22555547\n",
      " 31.97016903 17.75862136 12.00152074 32.13381991 19.31656177 18.66133664\n",
      " 17.92422843 21.41274144 29.63955876 26.66121015 19.31105821 16.69559163\n",
      " 28.98868023 24.5521358  17.44704535 22.56937362 22.37858101 27.85047249\n",
      " 20.53929455 22.1543978  22.73014371 18.59487718 25.32796056 23.63987318\n",
      " 29.44252093 28.11449546 25.45490892 21.48452489 20.30646479 25.29828261\n",
      " 27.78608507 26.66154043 27.72423217 20.25621753 19.25301167 21.1803711\n",
      " 21.56534667 22.58301977 31.48436013  0.76496074 19.36565444 23.7332413\n",
      " 18.65012263 42.79529148 18.21332992 18.84476081 26.14549695 27.21193734\n",
      " 25.32784528 17.72462203 24.74297967 34.56355706 39.1637745  14.97250274\n",
      " 21.8438251  20.18780931 15.75221776 28.96513769 29.36600681 32.58647661\n",
      " 15.51653999 15.07216118 23.27524141  5.01014949 21.24824973 20.05821225\n",
      " 24.43933755 14.24465725 25.70631734 15.87433783 22.03512364 19.86270676\n",
      " 21.00155125 40.03193311 20.82726513  2.88907171 16.81987226 15.61667592\n",
      " 26.80955114 23.06396928 13.84371502 23.97404375 29.46079158 19.91851893\n",
      " 15.43097297 21.89841896 21.36593832 22.18967806 20.02038373 19.69878191\n",
      " 32.52475174 25.41572328 26.94524327 11.77198398 16.89971678 22.82930785\n",
      " 23.22040188 10.41699915 24.42373996 27.05877379 18.21890492 38.8987303\n",
      " 29.75135636 18.9538747  21.42053792 42.70747497 21.03935008 22.07658609\n",
      " 19.15674092 24.60698849 26.76782536  9.75682289 17.967622   21.2108585\n",
      " 24.21793876 30.42373705 23.92451336 18.32816742 27.95198194 21.46736807\n",
      " 18.16961965 21.2624168   9.43861101 33.93889889 24.88085504 25.09659899\n",
      " 22.2732949   9.49728799 20.73492217 19.88430389 12.71568534 18.75797479\n",
      " 27.79034454 13.81651207 22.9401492  25.54957365 24.13376431 15.74469399\n",
      " 19.04925238 20.65919594 19.05307064 17.98786159 26.28960774 24.21642953\n",
      " 36.64202355 19.337092   21.84222188 20.94540138 27.24608165 20.41370148\n",
      " 20.25969081 17.63630155 38.1778441  22.84483582 20.96963921 19.59606774\n",
      " 18.6318115  24.48206804 22.1058147  32.08961688 34.24849573 18.32807652\n",
      " 23.09268202 18.83133121 18.35344835 21.00546168 30.6650338  16.81934238\n",
      " 23.25758427 23.43930745]\n"
     ]
    }
   ],
   "source": [
    "# Call the predictions for X in the test set.\n",
    "y_pred_mlr = mlr.predict(X_train)  \n",
    "\n",
    "# Print the predictions.\n",
    "print(\"Prediction for test set: {}\".format(y_pred_mlr)) "
   ]
  },
  {
   "cell_type": "markdown",
   "id": "f9caed84",
   "metadata": {},
   "source": [
    "> Test the model"
   ]
  },
  {
   "cell_type": "code",
   "execution_count": 16,
   "id": "97484120",
   "metadata": {},
   "outputs": [
    {
     "name": "stdout",
     "output_type": "stream",
     "text": [
      "Prediction for test set: [37.16294771 26.26390003 23.32233629  9.42654469 34.84637649 13.06883011\n",
      " 27.54742048 26.25779081 25.61852352 23.38233874 32.02478151 20.6203452\n",
      " 19.55213869 30.79259805 24.81138243 21.67579149  7.2803958  13.88603048\n",
      " 14.44348739 16.78124002 11.3765575  22.51194954 38.90058634 23.27198665\n",
      " 31.37745427 17.87469188 23.78577475 21.07447304 24.35126682 28.96509876\n",
      " 17.9190036  14.06265518 18.09111236 31.24553727 25.32850094 22.0900311\n",
      " 25.72964865 18.23891395 39.68116278 29.76640908 20.69268094 10.53395631\n",
      " 25.12859787 19.29367293 26.04930156 29.82778882  6.41394588 18.88978814\n",
      " 19.99319269 20.43100524 20.31822044 21.79013133 23.00092875 20.97257056\n",
      " 16.49172001 26.44887238 35.45280085 23.87091819 27.14389189 21.55561781\n",
      " 19.68025144 20.21289567 16.44845796 27.10481774 20.65455239 13.48164705\n",
      " 24.74749771 23.04711977 20.68288625 19.01153213 23.4499095  20.56595991\n",
      " 18.08514336 26.1019444  15.44534286 31.02285181 18.34999384 15.48675139\n",
      " 30.47602818 19.152676   21.73104128 39.41512871 21.15076151 21.0614366\n",
      " 19.94837575 22.81400049 15.73895665 10.86343094 19.81051172 23.06788727\n",
      " 35.38029717 20.0024788  21.08779171 21.03297039 23.79864744 26.20550542\n",
      " 17.30397485 30.94505355 18.46028753 12.84711211 22.02338157 26.11054445]\n"
     ]
    }
   ],
   "source": [
    "# Call the predictions for X in the test set.\n",
    "y_pred_mlr = mlr.predict(X_test)  \n",
    "\n",
    "# Print the predictions.\n",
    "print(\"Prediction for test set: {}\".format(y_pred_mlr))  "
   ]
  },
  {
   "cell_type": "code",
   "execution_count": 17,
   "id": "de0d279e",
   "metadata": {},
   "outputs": [
    {
     "name": "stdout",
     "output_type": "stream",
     "text": [
      "69.27370456571789\n"
     ]
    }
   ],
   "source": [
    "# Print the R-squared value.\n",
    "print(mlr.score(X_test, Y_test)*100)  "
   ]
  },
  {
   "cell_type": "markdown",
   "id": "239e0370",
   "metadata": {},
   "source": [
    "# "
   ]
  },
  {
   "cell_type": "markdown",
   "id": "21611971",
   "metadata": {},
   "source": [
    "## 8. Check for multicollinearity with Python"
   ]
  },
  {
   "cell_type": "code",
   "execution_count": null,
   "id": "4212cf92",
   "metadata": {},
   "outputs": [],
   "source": [
    "# Add a constant.\n",
    "x_temp = sm.add_constant(X_train)  \n",
    "\n",
    "# Create an empty DataFrame. \n",
    "vif = pd.DataFrame() \n",
    "\n",
    "# Calculate the 'vif' for each value.\n",
    "vif[\"VIF Factor\"] = [variance_inflation_factor(x_temp.values, \n",
    "                                               i) for i in range(x_temp.values.shape[1])]  \n",
    "\n",
    "\n",
    "# Create the feature columns.\n",
    "vif['features'] = x_temp.columns  \n",
    "\n",
    "# Print the values to two decimal points.\n",
    "print(vif.round(2))  "
   ]
  },
  {
   "cell_type": "markdown",
   "id": "7b4c0d2b",
   "metadata": {},
   "source": [
    "## 9. Evaluate the model"
   ]
  },
  {
   "cell_type": "code",
   "execution_count": null,
   "id": "b7cbfecc",
   "metadata": {},
   "outputs": [],
   "source": [
    "# Call the ‘metrics.mean_absolute_error’ function.  \n",
    "print('Mean Absolute Error (Final):', metrics.mean_absolute_error(Y_test, Y_pred))  \n",
    "\n",
    "# Call the ‘metrics.mean_squared_error’ function.\n",
    "print('Mean Square Error (Final):', metrics.mean_squared_error(Y_test, Y_pred))  "
   ]
  },
  {
   "cell_type": "markdown",
   "id": "ce14e328",
   "metadata": {},
   "source": [
    "## 10. Conclusion"
   ]
  },
  {
   "cell_type": "markdown",
   "id": "ba142978",
   "metadata": {},
   "source": [
    "> Add your own notes here."
   ]
  },
  {
   "cell_type": "code",
   "execution_count": null,
   "id": "a3c6d708",
   "metadata": {},
   "outputs": [],
   "source": []
  }
 ],
 "metadata": {
  "kernelspec": {
   "display_name": "Python 3 (ipykernel)",
   "language": "python",
   "name": "python3"
  },
  "language_info": {
   "codemirror_mode": {
    "name": "ipython",
    "version": 3
   },
   "file_extension": ".py",
   "mimetype": "text/x-python",
   "name": "python",
   "nbconvert_exporter": "python",
   "pygments_lexer": "ipython3",
   "version": "3.9.12"
  }
 },
 "nbformat": 4,
 "nbformat_minor": 5
}
